{
  "nbformat": 4,
  "nbformat_minor": 0,
  "metadata": {
    "colab": {
      "provenance": [],
      "authorship_tag": "ABX9TyNMq6BV2JvfVNoh5ZK3I1K8",
      "include_colab_link": true
    },
    "kernelspec": {
      "name": "python3",
      "display_name": "Python 3"
    },
    "language_info": {
      "name": "python"
    }
  },
  "cells": [
    {
      "cell_type": "markdown",
      "metadata": {
        "id": "view-in-github",
        "colab_type": "text"
      },
      "source": [
        "<a href=\"https://colab.research.google.com/github/Bodruzzaman-Khan/Python/blob/main/Day_Difference.ipynb\" target=\"_parent\"><img src=\"https://colab.research.google.com/assets/colab-badge.svg\" alt=\"Open In Colab\"/></a>"
      ]
    },
    {
      "cell_type": "markdown",
      "source": [
        "# **Calculate the Day-Month-Year difference!**"
      ],
      "metadata": {
        "id": "CnasJp6mZoTM"
      }
    },
    {
      "cell_type": "code",
      "execution_count": 1,
      "metadata": {
        "colab": {
          "base_uri": "https://localhost:8080/"
        },
        "id": "X1MRJVd7W7Yw",
        "outputId": "7b76f395-979f-4501-df5d-6b364f16e464"
      },
      "outputs": [
        {
          "output_type": "stream",
          "name": "stdout",
          "text": [
            "Enter the start date (YYYY-MM-DD): 2024-01-01\n",
            "Enter the end date (YYYY-MM-DD): 2024-02-02\n",
            "\n",
            "Difference is: 0 years, 1 months, and 2 days.\n"
          ]
        }
      ],
      "source": [
        "from datetime import datetime\n",
        "\n",
        "def calculate_date_difference(start_date, end_date):\n",
        "    \"\"\"\n",
        "    Calculates the number of years, months, and days between two dates.\n",
        "\n",
        "    Args:\n",
        "    - start_date (str): Start date in the format 'YYYY-MM-DD'.\n",
        "    - end_date (str): End date in the format 'YYYY-MM-DD'.\n",
        "\n",
        "    Returns:\n",
        "    - dict: A dictionary with years, months, and days.\n",
        "    \"\"\"\n",
        "    start = datetime.strptime(start_date, \"%Y-%m-%d\")\n",
        "    end = datetime.strptime(end_date, \"%Y-%m-%d\")\n",
        "\n",
        "    # Swap if dates are in the wrong order\n",
        "    if start > end:\n",
        "        start, end = end, start\n",
        "\n",
        "    delta_days = (end - start).days\n",
        "    years = delta_days // 365\n",
        "    remaining_days = delta_days % 365\n",
        "    months = remaining_days // 30  # Approximation for months\n",
        "    days = remaining_days % 30\n",
        "\n",
        "    return {\n",
        "        \"years\": years,\n",
        "        \"months\": months,\n",
        "        \"days\": days\n",
        "    }\n",
        "\n",
        "# Example usage\n",
        "start_date = input(\"Enter the start date (YYYY-MM-DD): \")\n",
        "end_date = input(\"Enter the end date (YYYY-MM-DD): \")\n",
        "\n",
        "result = calculate_date_difference(start_date, end_date)\n",
        "\n",
        "print(f\"\\nDifference is: {result['years']} years, {result['months']} months, and {result['days']} days.\")\n"
      ]
    },
    {
      "cell_type": "markdown",
      "source": [
        "# **Leap Years**"
      ],
      "metadata": {
        "id": "kkw-TFbAZSrc"
      }
    },
    {
      "cell_type": "code",
      "source": [
        "from datetime import datetime\n",
        "from dateutil.relativedelta import relativedelta\n",
        "\n",
        "def calculate_date_difference(start_date, end_date):\n",
        "    \"\"\"\n",
        "    Calculates the number of years, months, and days between two dates accurately, considering leap years.\n",
        "\n",
        "    Args:\n",
        "    - start_date (str): Start date in the format 'YYYY-MM-DD'.\n",
        "    - end_date (str): End date in the format 'YYYY-MM-DD'.\n",
        "\n",
        "    Returns:\n",
        "    - dict: A dictionary with years, months, and days.\n",
        "    \"\"\"\n",
        "    start = datetime.strptime(start_date, \"%Y-%m-%d\")\n",
        "    end = datetime.strptime(end_date, \"%Y-%m-%d\")\n",
        "\n",
        "    # Swap if dates are in the wrong order\n",
        "    if start > end:\n",
        "        start, end = end, start\n",
        "\n",
        "    diff = relativedelta(end, start)\n",
        "\n",
        "    return {\n",
        "        \"years\": diff.years,\n",
        "        \"months\": diff.months,\n",
        "        \"days\": diff.days\n",
        "    }\n",
        "\n",
        "# Example usage\n",
        "start_date = input(\"Enter the start date (YYYY-MM-DD): \")\n",
        "end_date = input(\"Enter the end date (YYYY-MM-DD): \")\n",
        "\n",
        "result = calculate_date_difference(start_date, end_date)\n",
        "\n",
        "print(f\"\\nDifference is: {result['years']} years, {result['months']} months, and {result['days']} days.\")\n"
      ],
      "metadata": {
        "id": "GfgmDvN-YON0"
      },
      "execution_count": null,
      "outputs": []
    }
  ]
}