{
  "nbformat": 4,
  "nbformat_minor": 0,
  "metadata": {
    "colab": {
      "provenance": [],
      "authorship_tag": "ABX9TyO2uHgBTI2Mzr79jCwEcFSn",
      "include_colab_link": true
    },
    "kernelspec": {
      "name": "python3",
      "display_name": "Python 3"
    },
    "language_info": {
      "name": "python"
    }
  },
  "cells": [
    {
      "cell_type": "markdown",
      "metadata": {
        "id": "view-in-github",
        "colab_type": "text"
      },
      "source": [
        "<a href=\"https://colab.research.google.com/github/Bodruzzaman-Khan/Python/blob/main/Operators_in_real_life.ipynb\" target=\"_parent\"><img src=\"https://colab.research.google.com/assets/colab-badge.svg\" alt=\"Open In Colab\"/></a>"
      ]
    },
    {
      "cell_type": "markdown",
      "source": [
        "# **Python operators using real-life examples**"
      ],
      "metadata": {
        "id": "52g-Hihfds3P"
      }
    },
    {
      "cell_type": "markdown",
      "source": [
        "# Scenario: We are organizing a charity event where:\n",
        "#### 1. We need to distribute 120 meals equally among 7 groups.\n",
        "#### 2. We want to calculate how many whole meals each group gets, how many meals are left over, and perform other related calculations using different division techniques.\n"
      ],
      "metadata": {
        "id": "H8gbX5Pdd6um"
      }
    },
    {
      "cell_type": "code",
      "execution_count": 3,
      "metadata": {
        "colab": {
          "base_uri": "https://localhost:8080/"
        },
        "id": "hyJWHQpvdCTS",
        "outputId": "fa6d22af-074a-44a2-bef2-2222d4919adf"
      },
      "outputs": [
        {
          "output_type": "stream",
          "name": "stdout",
          "text": [
            "Each group receives 17.14 meals (Regular Division).\n",
            "Each group receives 17 whole meals (Floor Division).\n",
            "There are 1 meals left over (Modulo).\n",
            "Each group receives 17 meals, with 1 meals left (Divmod).\n",
            "Each group receives 120/7 of a meal (Fraction Division).\n",
            "Result of dividing donations: 3.79-0.52j (Complex Division)\n",
            "Total meals needed for 45 people: 90 meals (Multiplication).\n",
            "Storage capacity in 5 days: 32 units (Power Operation).\n",
            "Negative floor division result: -18.\n",
            "Normalized rotation angle: 40° (Cyclic Modulo).\n",
            "500 minutes = 8 hours and 20 minutes (Divmod for time).\n"
          ]
        }
      ],
      "source": [
        "\n",
        "from fractions import Fraction\n",
        "\n",
        "# Scenario: We are organizing a charity event where:\n",
        "# 1. We need to distribute 120 meals equally among 7 groups.\n",
        "# 2. We want to calculate how many whole meals each group gets, how many meals are left over,\n",
        "#    and perform other related calculations using different division techniques.\n",
        "\n",
        "# Inputs: Total meals and number of groups\n",
        "total_meals = 120  # Total number of meals available\n",
        "groups = 7         # Number of groups\n",
        "\n",
        "# Regular Division\n",
        "# We use regular division (/) to calculate the exact number of meals each group will receive,\n",
        "# including any fractional part.\n",
        "regular_division = total_meals / groups\n",
        "print(f\"Each group receives {regular_division:.2f} meals (Regular Division).\")\n",
        "\n",
        "# Floor Division\n",
        "# We use floor division (//) to calculate how many whole meals each group receives by truncating\n",
        "# any fractional part (i.e., rounding down to the nearest whole number).\n",
        "floor_division = total_meals // groups\n",
        "print(f\"Each group receives {floor_division} whole meals (Floor Division).\")\n",
        "\n",
        "# Modulo\n",
        "# We use the modulo operator (%) to calculate the number of leftover meals after distributing them\n",
        "# equally among the groups.\n",
        "remainder = total_meals % groups\n",
        "print(f\"There are {remainder} meals left over (Modulo).\")\n",
        "\n",
        "# Divmod\n",
        "# We use the divmod function to simultaneously compute both the quotient (whole meals) and the remainder (leftover meals).\n",
        "quotient, rem = divmod(total_meals, groups)\n",
        "print(f\"Each group receives {quotient} meals, with {rem} meals left (Divmod).\")\n",
        "\n",
        "# Fraction\n",
        "# We use the Fraction class to represent the result of the division as an exact fraction.\n",
        "fraction_division = Fraction(total_meals, groups)\n",
        "print(f\"Each group receives {fraction_division} of a meal (Fraction Division).\")\n",
        "\n",
        "# Complex Division\n",
        "# We consider complex numbers to represent donations (in dollars and hours). We then perform division\n",
        "# between two complex donation amounts.\n",
        "donation_a = complex(200, 50)  # First donation: 200 dollars (real) and 50 hours (imaginary)\n",
        "donation_b = complex(50, 20)   # Second donation: 50 dollars (real) and 20 hours (imaginary)\n",
        "complex_result = donation_a / donation_b\n",
        "print(f\"Result of dividing donations: {complex_result:.2f} (Complex Division)\")\n",
        "\n",
        "# Additional Operations:\n",
        "# Multiplication Example\n",
        "# We calculate how many meals are needed for 45 people if each person gets 2 meals.\n",
        "meals_per_person = 2\n",
        "people = 45\n",
        "total_meals_needed = meals_per_person * people\n",
        "print(f\"Total meals needed for {people} people: {total_meals_needed} meals (Multiplication).\")\n",
        "\n",
        "# Power Example\n",
        "# We calculate the total storage capacity over 5 days if the storage capacity per day doubles.\n",
        "remaining_days = 5\n",
        "storage_capacity_per_day = 2\n",
        "total_capacity = storage_capacity_per_day ** remaining_days\n",
        "print(f\"Storage capacity in {remaining_days} days: {total_capacity} units (Power Operation).\")\n",
        "\n",
        "# Handling Negatives (Floor Division Behavior)\n",
        "# We calculate the floor division result when dividing -120 by 7. This demonstrates how Python rounds down for negative numbers.\n",
        "negative_division = -120 // 7\n",
        "print(f\"Negative floor division result: {negative_division}.\")\n",
        "\n",
        "# Example of Cyclic Modulo (e.g., rotation)\n",
        "# We normalize a rotation angle of 400° into a standard range of 0 to 360° using the modulo operation.\n",
        "rotation_angle = 400  # Angle in degrees\n",
        "normalized_angle = rotation_angle % 360\n",
        "print(f\"Normalized rotation angle: {normalized_angle}° (Cyclic Modulo).\")\n",
        "\n",
        "# Divmod for time (minutes to hours)\n",
        "# We convert 500 minutes into hours and minutes using divmod.\n",
        "total_minutes = 500\n",
        "hours, minutes = divmod(total_minutes, 60)\n",
        "print(f\"500 minutes = {hours} hours and {minutes} minutes (Divmod for time).\")\n"
      ]
    }
  ]
}